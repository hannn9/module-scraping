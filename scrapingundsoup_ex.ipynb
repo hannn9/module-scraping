{
 "cells": [
  {
   "cell_type": "code",
   "execution_count": 330,
   "metadata": {
    "autoscroll": false,
    "ein.hycell": false,
    "ein.tags": "worksheet-0",
    "slideshow": {
     "slide_type": "-"
    }
   },
   "outputs": [],
   "source": [
    "# Our jupyter/datascience-notebook Docker container comes with \n",
    "# BeautifulSoup4 and requests, both popular libraries!\n",
    "\n",
    "from bs4 import BeautifulSoup\n",
    "import requests"
   ]
  },
  {
   "cell_type": "code",
   "execution_count": 331,
   "metadata": {
    "autoscroll": false,
    "ein.hycell": false,
    "ein.tags": "worksheet-0",
    "slideshow": {
     "slide_type": "-"
    }
   },
   "outputs": [],
   "source": [
    "START_URL = 'https://brickset.com/sets/year-2016'"
   ]
  },
  {
   "cell_type": "code",
   "execution_count": 332,
   "metadata": {},
   "outputs": [],
   "source": [
    "def get_titles(soup):    \n",
    "    \"\"\" Returns a list of titles on the page \"\"\"\n",
    "    # the \"soup\" parameter is of the type that is\n",
    "    # returned by Beautiful Soup when it parses HTML.\n",
    "    # The function should then use the object to\n",
    "    # extract a list of titles (of the lego sets)\n",
    "    #\n",
    "    # Lookup the documentation for Beautiful Soup\n",
    "    # Figure out how to select the text of the title\n",
    "    # of each legoset. A title should look like: \n",
    "    # \"10252: Volkswagen Beetle\"\n",
    "    dict_title = {}\n",
    "    for i in range(0,51):\n",
    "        dict_title[i] = soup.find_all(\"h1\")[i].get_text()\n",
    "    #transform dictionary into a list\n",
    "    list_title = [ v for v in dict_title.values() ]    \n",
    "    #keep only even numbers \n",
    "    titles = list_title[::2]\n",
    "    #We want the subtitles actually \n",
    "    titles.pop(0)\n",
    "   \n",
    "\n",
    "\n",
    "\n",
    "    \n",
    "##Check with Prof how to improve this:\n",
    "##I would need to know the range in advance which fortunately i can get it easily in this case (small one)\n",
    "## And this swapping dictionary to list is not optimal either (i get an index range error if I generate an empty list instead)"
   ]
  },
  {
   "cell_type": "code",
   "execution_count": 333,
   "metadata": {},
   "outputs": [],
   "source": [
    "def parse_bricks(url):\n",
    "    \"\"\" Fetches Lego Bricks page and extracts titles \"\"\"\n",
    "    # Lookup the documentation to the \"requests\" library\n",
    "    #\n",
    "    # Use requests to make a get request to the\n",
    "    # url given in the argument \"url\" (which is a string)\n",
    "    # and get the raw HTML body of the response\n",
    "    r = requests.get(url)\n",
    "    # Use \"BeautifulSoup\" to parse this HTML. \n",
    "    soup = BeautifulSoup(r.content, 'html.parser')\n",
    "    #print(soup.prettify())\n",
    "    # Use the \"get_titles\" function to extract the\n",
    "    # titles from the BeautifulSoup object.\n",
    "    get_titles(soup)\n",
    "    #return titles\n",
    "    return titles\n",
    "    "
   ]
  },
  {
   "cell_type": "code",
   "execution_count": 334,
   "metadata": {},
   "outputs": [
    {
     "name": "stdout",
     "output_type": "stream",
     "text": [
      "['10251:  Brick Bank', '10252:  Volkswagen Beetle', '10253:  Big Ben', '10254:  Winter Holiday Train', '10654:  XL Creative Brick Box', '10702:  Creative Building Set', '10705:  Creative Building Basket', '10720:  Police Helicopter Chase', '10721:  Iron Man vs. Loki', '10722:  Snake Showdown', \"10723:  Ariel's Dolphin Carriage\", '10724:  Batman & Superman vs. Lex Luthor', '10725:  Lost Temple', \"10726:  Stephanie's Horse Carriage\", \"10727:  Emma's Ice Cream Truck\", \"10728:  Mia's Vet Clinic\", \"10729:  Cinderella's Carriage\", '10801:  Baby Animals', '10802:  Savanna', '10803:  Arctic', '10804:  Jungle', '10805:  Around the World', '10806:  Horses', '10807:  Horse Trailer', '10808:  Little Plane']\n"
     ]
    }
   ],
   "source": [
    "bricks = parse_bricks(START_URL)\n",
    "print(bricks)"
   ]
  },
  {
   "cell_type": "code",
   "execution_count": 335,
   "metadata": {},
   "outputs": [],
   "source": [
    "assert(bricks[0] == '10251:  Brick Bank')\n",
    "assert(bricks[9] == '10722:  Snake Showdown')"
   ]
  },
  {
   "cell_type": "code",
   "execution_count": 336,
   "metadata": {},
   "outputs": [
    {
     "ename": "AssertionError",
     "evalue": "",
     "output_type": "error",
     "traceback": [
      "\u001b[0;31m---------------------------------------------------------------------------\u001b[0m",
      "\u001b[0;31mAssertionError\u001b[0m                            Traceback (most recent call last)",
      "\u001b[0;32m<ipython-input-336-7cced1ca64d1>\u001b[0m in \u001b[0;36m<module>\u001b[0;34m()\u001b[0m\n\u001b[1;32m      1\u001b[0m \u001b[0;31m#Let's try an error\u001b[0m\u001b[0;34m\u001b[0m\u001b[0;34m\u001b[0m\u001b[0m\n\u001b[0;32m----> 2\u001b[0;31m \u001b[0;32massert\u001b[0m\u001b[0;34m(\u001b[0m\u001b[0mbricks\u001b[0m\u001b[0;34m[\u001b[0m\u001b[0;36m2\u001b[0m\u001b[0;34m]\u001b[0m \u001b[0;34m==\u001b[0m \u001b[0;34m'10251:  Brick Bank'\u001b[0m\u001b[0;34m)\u001b[0m\u001b[0;34m\u001b[0m\u001b[0m\n\u001b[0m\u001b[1;32m      3\u001b[0m \u001b[0;32massert\u001b[0m\u001b[0;34m(\u001b[0m\u001b[0mbricks\u001b[0m\u001b[0;34m[\u001b[0m\u001b[0;36m12\u001b[0m\u001b[0;34m]\u001b[0m \u001b[0;34m==\u001b[0m \u001b[0;34m'10722:  Snake Showdown'\u001b[0m\u001b[0;34m)\u001b[0m\u001b[0;34m\u001b[0m\u001b[0m\n",
      "\u001b[0;31mAssertionError\u001b[0m: "
     ]
    }
   ],
   "source": [
    "#Let's try an error\n",
    "assert(bricks[2] == '10251:  Brick Bank')\n",
    "assert(bricks[12] == '10722:  Snake Showdown')\n",
    "\n",
    "#Cool."
   ]
  }
 ],
 "metadata": {
  "kernelspec": {
   "display_name": "Python 3",
   "language": "python",
   "name": "python3"
  },
  "language_info": {
   "codemirror_mode": {
    "name": "ipython",
    "version": 3
   },
   "file_extension": ".py",
   "mimetype": "text/x-python",
   "name": "python",
   "nbconvert_exporter": "python",
   "pygments_lexer": "ipython3",
   "version": "3.6.3"
  },
  "name": "exercises.ipynb"
 },
 "nbformat": 4,
 "nbformat_minor": 2
}
